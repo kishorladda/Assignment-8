{
 "cells": [
  {
   "cell_type": "markdown",
   "id": "17d96432-cdde-4891-b2f8-4812d736dff3",
   "metadata": {},
   "source": [
    "Q1. You are writing code for a company. The requirement of the company is that you create a python\n",
    "    function that will check whether the password entered by the user is correct or not. The function should\n",
    "    take the password as input and return the string “Valid Password” if the entered password follows the\n",
    "    below-given password guidelines else it should return “Invalid Password”.\n",
    "\n",
    "    Note: \n",
    "        1. The Password should contain at least two uppercase letters and at least two lowercase letters.\n",
    "        2. The Password should contain at least a number and three special characters.\n",
    "        3. The length of the password should be 10 characters long."
   ]
  },
  {
   "cell_type": "code",
   "execution_count": 10,
   "id": "d3608732-e2b3-441d-a1de-d68f722f76f4",
   "metadata": {},
   "outputs": [],
   "source": [
    "def security () :\n",
    "    password = input('enter your password')\n",
    "    ucount = 0\n",
    "    lcount = 0\n",
    "    dcount = 0\n",
    "    acount = 0\n",
    "    for i in password :\n",
    "        while acount<4  :\n",
    "            if i.isalnum():\n",
    "                acount += 1\n",
    "    for i in password :\n",
    "        while dcount>1 :\n",
    "            if i.isdigit():\n",
    "                dcount += 1\n",
    "    for i in password :\n",
    "        while lcount >= 2 :\n",
    "            if i.islower():\n",
    "                ucount += 1 \n",
    "    for i in password :\n",
    "        while ucount >= 2 :\n",
    "            if i.isupper():\n",
    "                ucount += 1\n",
    "    if len(password) >= 10:\n",
    "\n",
    "        return 'valid password'\n",
    "    else :\n",
    "        return 'invalid password'    \n",
    "            "
   ]
  },
  {
   "cell_type": "code",
   "execution_count": 11,
   "id": "2454db27-07ef-4681-9f6b-b017c60042a9",
   "metadata": {},
   "outputs": [
    {
     "name": "stdin",
     "output_type": "stream",
     "text": [
      "enter your password ABab123#$%\n"
     ]
    },
    {
     "data": {
      "text/plain": [
       "'valid password'"
      ]
     },
     "execution_count": 11,
     "metadata": {},
     "output_type": "execute_result"
    }
   ],
   "source": [
    "security()"
   ]
  },
  {
   "cell_type": "markdown",
   "id": "d60c7e9d-ffdd-4ba8-92a0-36df7a95aee4",
   "metadata": {},
   "source": [
    "Q2. Solve the below-given questions using at least one of the following:\n",
    "    1. Lambda function\n",
    "    2. Filter function\n",
    "    3. map function\n",
    "    4. List Comprehension\n",
    "   . Check if the string starts with a particular letter\n",
    "   . Check if the string is numeric\n",
    "   . Sort a list of tuples having fruit names and their quantity. [(\"mango\",99),(\"orange\",80), (\"grapes\", 1000)]\n",
    "   . Find the squares of numbers from 1 to 10\n",
    "   . Find the cube root of numbers from 1 to 10\n",
    "   . Check if a given number is even\n",
    "   . Filter odd numbers from the given list.\n",
    "   . [1,2,3,4,5,6,7,8,9,10]\n",
    "   . Sort a list of integers into positive and negative integers lists.\n",
    "   . [1,2,3,4,5,6,-1,-2,-3,-4,-5,0]"
   ]
  },
  {
   "cell_type": "markdown",
   "id": "d75002fa-1981-410f-89ad-06fa0a58439f",
   "metadata": {},
   "source": [
    "1] Check if the string starts with a particular letter\n",
    "ans : lets check if the string starts with "
   ]
  },
  {
   "cell_type": "code",
   "execution_count": 21,
   "id": "4a311255-ec7a-4f45-bf18-90937ecdcf33",
   "metadata": {},
   "outputs": [],
   "source": [
    "def check():\n",
    "    string = input('enter your string')\n",
    "    output = input('string requirement')\n",
    "    if string[:len(output)]==output :\n",
    "        \n",
    "        return 'yes'\n",
    "    \n",
    "    else :\n",
    "        return 'no'\n",
    "\n"
   ]
  },
  {
   "cell_type": "code",
   "execution_count": 24,
   "id": "7a24752c-aa40-4f74-b022-29dd25855cf5",
   "metadata": {},
   "outputs": [],
   "source": [
    "word = lambda x : check()"
   ]
  },
  {
   "cell_type": "code",
   "execution_count": 25,
   "id": "f854d3df-04ce-4f8f-b807-9ec50b1bd46f",
   "metadata": {},
   "outputs": [
    {
     "name": "stdin",
     "output_type": "stream",
     "text": [
      "enter your string Check if the string is numeric\n",
      "string requirement Check\n"
     ]
    },
    {
     "data": {
      "text/plain": [
       "'yes'"
      ]
     },
     "execution_count": 25,
     "metadata": {},
     "output_type": "execute_result"
    }
   ],
   "source": [
    "check()"
   ]
  },
  {
   "cell_type": "markdown",
   "id": "189ec97d-16c6-4dc1-bebe-ad5a769fcf60",
   "metadata": {},
   "source": [
    "2] Check if the string is numeric"
   ]
  },
  {
   "cell_type": "code",
   "execution_count": 64,
   "id": "c2c9ffb7-78d2-4aea-aeb9-b7cc80d97de9",
   "metadata": {},
   "outputs": [],
   "source": [
    "def numeric():\n",
    "    try :\n",
    "        string = input('enter your string')\n",
    "        for i in string :\n",
    "            float(i)\n",
    "        return True\n",
    "    except :\n",
    "        return False"
   ]
  },
  {
   "cell_type": "code",
   "execution_count": 68,
   "id": "099ea822-143f-418c-b08e-7a25afc19660",
   "metadata": {},
   "outputs": [],
   "source": [
    "x= lambda a : numeric()"
   ]
  },
  {
   "cell_type": "code",
   "execution_count": 69,
   "id": "6a06acc1-9658-42a9-b3f3-87ff196389d0",
   "metadata": {},
   "outputs": [
    {
     "name": "stdin",
     "output_type": "stream",
     "text": [
      "enter your string 12\n"
     ]
    },
    {
     "data": {
      "text/plain": [
       "True"
      ]
     },
     "execution_count": 69,
     "metadata": {},
     "output_type": "execute_result"
    }
   ],
   "source": [
    "numeric()"
   ]
  },
  {
   "cell_type": "markdown",
   "id": "068d64bd-af81-4c23-aee9-87a287986d4b",
   "metadata": {},
   "source": [
    "3] Sort a list of tuples having fruit names and their quantity.\n",
    "   l = [(\"mango\",99),(\"orange\",80), (\"grapes\", 1000)]"
   ]
  },
  {
   "cell_type": "code",
   "execution_count": 77,
   "id": "85de1aa5-ac96-4782-9dc6-4239d49ad8ad",
   "metadata": {},
   "outputs": [],
   "source": [
    "l = [(\"mango\",99),(\"orange\",80), (\"grapes\", 1000)]"
   ]
  },
  {
   "cell_type": "code",
   "execution_count": 124,
   "id": "a5254f74-3301-44e6-8eb0-cfe8674072db",
   "metadata": {},
   "outputs": [],
   "source": [
    "def check():\n",
    "    l1 = []\n",
    "    l2 = []\n",
    "    for i in l :\n",
    "        for j in i :\n",
    "            if type(j)==str :\n",
    "                l1.append(j)\n",
    "            else :\n",
    "                l2.append(j)\n",
    "    print(l1)\n",
    "    print(l2)"
   ]
  },
  {
   "cell_type": "code",
   "execution_count": 125,
   "id": "e2675854-e986-47f9-91cf-7cd04e8074af",
   "metadata": {},
   "outputs": [],
   "source": [
    "a = lambda x : check()"
   ]
  },
  {
   "cell_type": "code",
   "execution_count": 126,
   "id": "55fd261e-3bcf-4044-9463-adcdb1441e12",
   "metadata": {},
   "outputs": [
    {
     "name": "stdout",
     "output_type": "stream",
     "text": [
      "['mango', 'orange', 'grapes']\n",
      "[99, 80, 1000]\n"
     ]
    }
   ],
   "source": [
    "check()"
   ]
  },
  {
   "cell_type": "markdown",
   "id": "8d2dbd0d-2b70-48b7-a9ad-42b235e96b40",
   "metadata": {},
   "source": [
    "4] Find the squares of numbers from 1 to 10"
   ]
  },
  {
   "cell_type": "code",
   "execution_count": 129,
   "id": "82f021d1-eac8-47c0-a788-72edf9820a75",
   "metadata": {},
   "outputs": [],
   "source": [
    "l = [1,2,3,4,5,6,7,8,9,10]"
   ]
  },
  {
   "cell_type": "code",
   "execution_count": 133,
   "id": "55f22e2b-8366-4f14-9fa2-dd626a92b7c2",
   "metadata": {},
   "outputs": [
    {
     "data": {
      "text/plain": [
       "[1, 4, 9, 16, 25, 36, 49, 64, 81, 100]"
      ]
     },
     "execution_count": 133,
     "metadata": {},
     "output_type": "execute_result"
    }
   ],
   "source": [
    "list(map(lambda x :x**2 , l ))"
   ]
  },
  {
   "cell_type": "markdown",
   "id": "172eabdb-b7cd-4af9-9832-eb0cada85bfd",
   "metadata": {},
   "source": [
    "5] Find the cube root of numbers from 1 to 10"
   ]
  },
  {
   "cell_type": "code",
   "execution_count": 134,
   "id": "430d1559-d33e-4d71-8758-50e19922553c",
   "metadata": {},
   "outputs": [],
   "source": [
    "l = [1,2,3,4,5,6,7,8,9,10]"
   ]
  },
  {
   "cell_type": "code",
   "execution_count": 135,
   "id": "a5f02d73-55bb-4dc2-9533-7fb05856c913",
   "metadata": {},
   "outputs": [
    {
     "data": {
      "text/plain": [
       "[0.3333333333333333,\n",
       " 0.6666666666666666,\n",
       " 1.0,\n",
       " 1.3333333333333333,\n",
       " 1.6666666666666667,\n",
       " 2.0,\n",
       " 2.3333333333333335,\n",
       " 2.6666666666666665,\n",
       " 3.0,\n",
       " 3.3333333333333335]"
      ]
     },
     "execution_count": 135,
     "metadata": {},
     "output_type": "execute_result"
    }
   ],
   "source": [
    "list(map(lambda x : x**1/3,l))"
   ]
  },
  {
   "cell_type": "markdown",
   "id": "1cd3bc14-10d5-4d88-a8ba-f1b09e34bd6f",
   "metadata": {},
   "source": [
    "6] Check if a given number is even"
   ]
  },
  {
   "cell_type": "code",
   "execution_count": 172,
   "id": "4d4b3221-2aaf-473e-9045-76edbac1a3de",
   "metadata": {},
   "outputs": [],
   "source": [
    "even = lambda x : 'even' if x%2 == 0 else 'odd'"
   ]
  },
  {
   "cell_type": "code",
   "execution_count": 174,
   "id": "f9ee9905-abff-4a62-ad7c-3749c39248c2",
   "metadata": {},
   "outputs": [
    {
     "data": {
      "text/plain": [
       "'odd'"
      ]
     },
     "execution_count": 174,
     "metadata": {},
     "output_type": "execute_result"
    }
   ],
   "source": [
    "even(19)"
   ]
  },
  {
   "cell_type": "markdown",
   "id": "08788088-60cd-4e84-9c74-96d2369c6ab6",
   "metadata": {},
   "source": [
    "7] Filter odd numbers from the given list.\n",
    "   l = [1,2,3,4,5,6,7,8,9,10]"
   ]
  },
  {
   "cell_type": "code",
   "execution_count": 176,
   "id": "11f6ab8e-ade2-4a37-b7a8-889cb7eb8491",
   "metadata": {},
   "outputs": [],
   "source": [
    "l = [1,2,3,4,5,6,7,8,9,10]"
   ]
  },
  {
   "cell_type": "code",
   "execution_count": 178,
   "id": "ba319b8f-3cf9-4af0-8591-0468722ca954",
   "metadata": {},
   "outputs": [
    {
     "data": {
      "text/plain": [
       "[1, 3, 5, 7, 9]"
      ]
     },
     "execution_count": 178,
     "metadata": {},
     "output_type": "execute_result"
    }
   ],
   "source": [
    "list(filter(lambda x : x%2==1 , l ))"
   ]
  },
  {
   "cell_type": "markdown",
   "id": "7cb8797a-e8d9-40d1-a5da-e7449bf2869e",
   "metadata": {},
   "source": [
    "8] Sort a list of integers into positive and negative integers lists.\n",
    "   [1,2,3,4,5,6,-1,-2,-3,-4,-5,0]"
   ]
  },
  {
   "cell_type": "code",
   "execution_count": 179,
   "id": "438efa7b-1a47-4596-84c6-854cedd568aa",
   "metadata": {},
   "outputs": [],
   "source": [
    "l = [1,2,3,4,5,6,-1,-2,-3,-4,-5,0]\n"
   ]
  },
  {
   "cell_type": "code",
   "execution_count": 180,
   "id": "7deb0e06-f2a0-46b6-872e-4ed902b7f112",
   "metadata": {},
   "outputs": [
    {
     "data": {
      "text/plain": [
       "[-1, -2, -3, -4, -5]"
      ]
     },
     "execution_count": 180,
     "metadata": {},
     "output_type": "execute_result"
    }
   ],
   "source": [
    "list(filter(lambda x : x<0 , l ))"
   ]
  },
  {
   "cell_type": "code",
   "execution_count": 181,
   "id": "737dfb85-e5f1-4237-b486-69a229e4d79e",
   "metadata": {},
   "outputs": [
    {
     "data": {
      "text/plain": [
       "[1, 2, 3, 4, 5, 6, 0]"
      ]
     },
     "execution_count": 181,
     "metadata": {},
     "output_type": "execute_result"
    }
   ],
   "source": [
    "list(filter(lambda x : x>=0 , l ))"
   ]
  },
  {
   "cell_type": "code",
   "execution_count": null,
   "id": "ad13233e-04e6-4999-b3e6-23d28253a56a",
   "metadata": {},
   "outputs": [],
   "source": []
  }
 ],
 "metadata": {
  "kernelspec": {
   "display_name": "Python 3 (ipykernel)",
   "language": "python",
   "name": "python3"
  },
  "language_info": {
   "codemirror_mode": {
    "name": "ipython",
    "version": 3
   },
   "file_extension": ".py",
   "mimetype": "text/x-python",
   "name": "python",
   "nbconvert_exporter": "python",
   "pygments_lexer": "ipython3",
   "version": "3.10.8"
  }
 },
 "nbformat": 4,
 "nbformat_minor": 5
}
